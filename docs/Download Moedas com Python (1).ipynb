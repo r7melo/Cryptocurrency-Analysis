{
 "cells": [
  {
   "cell_type": "markdown",
   "id": "527a788a-deee-462f-82fe-a43b09369d71",
   "metadata": {},
   "source": [
    "# Yahoo - Forex"
   ]
  },
  {
   "cell_type": "markdown",
   "id": "7ef004c4-b20f-443a-a705-9d1dddfd2a3d",
   "metadata": {},
   "source": [
    "### Para instalação, execute:"
   ]
  },
  {
   "cell_type": "code",
   "execution_count": 12,
   "id": "43a2f972-d042-43dd-a85e-01fcc74ef170",
   "metadata": {},
   "outputs": [
    {
     "name": "stdout",
     "output_type": "stream",
     "text": [
      "Requirement already satisfied: yfinance in c:\\users\\romar\\anaconda3\\lib\\site-packages (0.2.43)\n",
      "Requirement already satisfied: pandas>=1.3.0 in c:\\users\\romar\\anaconda3\\lib\\site-packages (from yfinance) (2.1.4)\n",
      "Requirement already satisfied: numpy>=1.16.5 in c:\\users\\romar\\anaconda3\\lib\\site-packages (from yfinance) (1.26.4)\n",
      "Requirement already satisfied: requests>=2.31 in c:\\users\\romar\\anaconda3\\lib\\site-packages (from yfinance) (2.31.0)\n",
      "Requirement already satisfied: multitasking>=0.0.7 in c:\\users\\romar\\anaconda3\\lib\\site-packages (from yfinance) (0.0.11)\n",
      "Requirement already satisfied: lxml>=4.9.1 in c:\\users\\romar\\anaconda3\\lib\\site-packages (from yfinance) (4.9.3)\n",
      "Requirement already satisfied: platformdirs>=2.0.0 in c:\\users\\romar\\anaconda3\\lib\\site-packages (from yfinance) (3.10.0)\n",
      "Requirement already satisfied: pytz>=2022.5 in c:\\users\\romar\\anaconda3\\lib\\site-packages (from yfinance) (2023.3.post1)\n",
      "Requirement already satisfied: frozendict>=2.3.4 in c:\\users\\romar\\anaconda3\\lib\\site-packages (from yfinance) (2.4.2)\n",
      "Requirement already satisfied: peewee>=3.16.2 in c:\\users\\romar\\anaconda3\\lib\\site-packages (from yfinance) (3.17.6)\n",
      "Requirement already satisfied: beautifulsoup4>=4.11.1 in c:\\users\\romar\\anaconda3\\lib\\site-packages (from yfinance) (4.12.2)\n",
      "Requirement already satisfied: html5lib>=1.1 in c:\\users\\romar\\anaconda3\\lib\\site-packages (from yfinance) (1.1)\n",
      "Requirement already satisfied: soupsieve>1.2 in c:\\users\\romar\\anaconda3\\lib\\site-packages (from beautifulsoup4>=4.11.1->yfinance) (2.5)\n",
      "Requirement already satisfied: six>=1.9 in c:\\users\\romar\\anaconda3\\lib\\site-packages (from html5lib>=1.1->yfinance) (1.16.0)\n",
      "Requirement already satisfied: webencodings in c:\\users\\romar\\anaconda3\\lib\\site-packages (from html5lib>=1.1->yfinance) (0.5.1)\n",
      "Requirement already satisfied: python-dateutil>=2.8.2 in c:\\users\\romar\\anaconda3\\lib\\site-packages (from pandas>=1.3.0->yfinance) (2.8.2)\n",
      "Requirement already satisfied: tzdata>=2022.1 in c:\\users\\romar\\anaconda3\\lib\\site-packages (from pandas>=1.3.0->yfinance) (2023.3)\n",
      "Requirement already satisfied: charset-normalizer<4,>=2 in c:\\users\\romar\\anaconda3\\lib\\site-packages (from requests>=2.31->yfinance) (2.0.4)\n",
      "Requirement already satisfied: idna<4,>=2.5 in c:\\users\\romar\\anaconda3\\lib\\site-packages (from requests>=2.31->yfinance) (3.4)\n",
      "Requirement already satisfied: urllib3<3,>=1.21.1 in c:\\users\\romar\\anaconda3\\lib\\site-packages (from requests>=2.31->yfinance) (2.0.7)\n",
      "Requirement already satisfied: certifi>=2017.4.17 in c:\\users\\romar\\anaconda3\\lib\\site-packages (from requests>=2.31->yfinance) (2024.7.4)\n"
     ]
    }
   ],
   "source": [
    "!pip install yfinance"
   ]
  },
  {
   "cell_type": "markdown",
   "id": "2b4a605c-b62d-4ee7-b2eb-ede70faae938",
   "metadata": {},
   "source": [
    "### Exemplo de codigo:"
   ]
  },
  {
   "cell_type": "code",
   "execution_count": 2,
   "id": "00f7699a-a8a6-43f4-ad20-54b8eb3a0400",
   "metadata": {},
   "outputs": [
    {
     "name": "stderr",
     "output_type": "stream",
     "text": [
      "[*********************100%***********************]  1 of 1 completed\n"
     ]
    },
    {
     "data": {
      "text/html": [
       "<div>\n",
       "<style scoped>\n",
       "    .dataframe tbody tr th:only-of-type {\n",
       "        vertical-align: middle;\n",
       "    }\n",
       "\n",
       "    .dataframe tbody tr th {\n",
       "        vertical-align: top;\n",
       "    }\n",
       "\n",
       "    .dataframe thead th {\n",
       "        text-align: right;\n",
       "    }\n",
       "</style>\n",
       "<table border=\"1\" class=\"dataframe\">\n",
       "  <thead>\n",
       "    <tr style=\"text-align: right;\">\n",
       "      <th></th>\n",
       "      <th>Open</th>\n",
       "      <th>High</th>\n",
       "      <th>Low</th>\n",
       "      <th>Close</th>\n",
       "      <th>Adj Close</th>\n",
       "      <th>Volume</th>\n",
       "    </tr>\n",
       "    <tr>\n",
       "      <th>Date</th>\n",
       "      <th></th>\n",
       "      <th></th>\n",
       "      <th></th>\n",
       "      <th></th>\n",
       "      <th></th>\n",
       "      <th></th>\n",
       "    </tr>\n",
       "  </thead>\n",
       "  <tbody>\n",
       "    <tr>\n",
       "      <th>2023-01-02</th>\n",
       "      <td>1.070973</td>\n",
       "      <td>1.071237</td>\n",
       "      <td>1.065326</td>\n",
       "      <td>1.070973</td>\n",
       "      <td>1.070973</td>\n",
       "      <td>0</td>\n",
       "    </tr>\n",
       "    <tr>\n",
       "      <th>2023-01-03</th>\n",
       "      <td>1.067771</td>\n",
       "      <td>1.068262</td>\n",
       "      <td>1.052155</td>\n",
       "      <td>1.067771</td>\n",
       "      <td>1.067771</td>\n",
       "      <td>0</td>\n",
       "    </tr>\n",
       "    <tr>\n",
       "      <th>2023-01-04</th>\n",
       "      <td>1.054685</td>\n",
       "      <td>1.063151</td>\n",
       "      <td>1.054596</td>\n",
       "      <td>1.054685</td>\n",
       "      <td>1.054685</td>\n",
       "      <td>0</td>\n",
       "    </tr>\n",
       "    <tr>\n",
       "      <th>2023-01-05</th>\n",
       "      <td>1.060637</td>\n",
       "      <td>1.063264</td>\n",
       "      <td>1.051558</td>\n",
       "      <td>1.060637</td>\n",
       "      <td>1.060637</td>\n",
       "      <td>0</td>\n",
       "    </tr>\n",
       "    <tr>\n",
       "      <th>2023-01-06</th>\n",
       "      <td>1.052222</td>\n",
       "      <td>1.062225</td>\n",
       "      <td>1.048526</td>\n",
       "      <td>1.052222</td>\n",
       "      <td>1.052222</td>\n",
       "      <td>0</td>\n",
       "    </tr>\n",
       "    <tr>\n",
       "      <th>...</th>\n",
       "      <td>...</td>\n",
       "      <td>...</td>\n",
       "      <td>...</td>\n",
       "      <td>...</td>\n",
       "      <td>...</td>\n",
       "      <td>...</td>\n",
       "    </tr>\n",
       "    <tr>\n",
       "      <th>2023-12-25</th>\n",
       "      <td>1.102657</td>\n",
       "      <td>1.104240</td>\n",
       "      <td>1.099989</td>\n",
       "      <td>1.102657</td>\n",
       "      <td>1.102657</td>\n",
       "      <td>0</td>\n",
       "    </tr>\n",
       "    <tr>\n",
       "      <th>2023-12-26</th>\n",
       "      <td>1.102026</td>\n",
       "      <td>1.103997</td>\n",
       "      <td>1.100958</td>\n",
       "      <td>1.102026</td>\n",
       "      <td>1.102026</td>\n",
       "      <td>0</td>\n",
       "    </tr>\n",
       "    <tr>\n",
       "      <th>2023-12-27</th>\n",
       "      <td>1.104301</td>\n",
       "      <td>1.112248</td>\n",
       "      <td>1.102925</td>\n",
       "      <td>1.104301</td>\n",
       "      <td>1.104301</td>\n",
       "      <td>0</td>\n",
       "    </tr>\n",
       "    <tr>\n",
       "      <th>2023-12-28</th>\n",
       "      <td>1.110864</td>\n",
       "      <td>1.113945</td>\n",
       "      <td>1.107101</td>\n",
       "      <td>1.110864</td>\n",
       "      <td>1.110864</td>\n",
       "      <td>0</td>\n",
       "    </tr>\n",
       "    <tr>\n",
       "      <th>2023-12-29</th>\n",
       "      <td>1.106819</td>\n",
       "      <td>1.108647</td>\n",
       "      <td>1.104326</td>\n",
       "      <td>1.106819</td>\n",
       "      <td>1.106819</td>\n",
       "      <td>0</td>\n",
       "    </tr>\n",
       "  </tbody>\n",
       "</table>\n",
       "<p>260 rows × 6 columns</p>\n",
       "</div>"
      ],
      "text/plain": [
       "                Open      High       Low     Close  Adj Close  Volume\n",
       "Date                                                                 \n",
       "2023-01-02  1.070973  1.071237  1.065326  1.070973   1.070973       0\n",
       "2023-01-03  1.067771  1.068262  1.052155  1.067771   1.067771       0\n",
       "2023-01-04  1.054685  1.063151  1.054596  1.054685   1.054685       0\n",
       "2023-01-05  1.060637  1.063264  1.051558  1.060637   1.060637       0\n",
       "2023-01-06  1.052222  1.062225  1.048526  1.052222   1.052222       0\n",
       "...              ...       ...       ...       ...        ...     ...\n",
       "2023-12-25  1.102657  1.104240  1.099989  1.102657   1.102657       0\n",
       "2023-12-26  1.102026  1.103997  1.100958  1.102026   1.102026       0\n",
       "2023-12-27  1.104301  1.112248  1.102925  1.104301   1.104301       0\n",
       "2023-12-28  1.110864  1.113945  1.107101  1.110864   1.110864       0\n",
       "2023-12-29  1.106819  1.108647  1.104326  1.106819   1.106819       0\n",
       "\n",
       "[260 rows x 6 columns]"
      ]
     },
     "execution_count": 2,
     "metadata": {},
     "output_type": "execute_result"
    }
   ],
   "source": [
    "import yfinance as yf\n",
    "\n",
    "# Defina o ticker da ação (por exemplo, \"EURUSD\" para Apple)\n",
    "ticker = \"EURUSD=X\"\n",
    "\n",
    "# Baixe os dados históricos\n",
    "data = yf.download(ticker, start=\"2023-01-01\", end=\"2024-01-01\", interval='1d')\n",
    "\n",
    "# Exiba\n",
    "data\n"
   ]
  },
  {
   "cell_type": "markdown",
   "id": "f91a2d4d-8486-4e0d-ad90-e93299a42c3d",
   "metadata": {},
   "source": [
    "# VectorBT - Cripto"
   ]
  },
  {
   "cell_type": "markdown",
   "id": "731a476c-3df4-4102-a074-89f7589dbc2d",
   "metadata": {},
   "source": [
    "### Para instalação, execute:"
   ]
  },
  {
   "cell_type": "code",
   "execution_count": 35,
   "id": "3f636d08-6847-49e3-8a48-cc64c36e5408",
   "metadata": {},
   "outputs": [
    {
     "data": {
      "application/vnd.jupyter.widget-view+json": {
       "model_id": "6939cce42e5346d4b9a0a975a71769bd",
       "version_major": 2,
       "version_minor": 0
      },
      "text/plain": [
       "0it [00:00, ?it/s]"
      ]
     },
     "metadata": {},
     "output_type": "display_data"
    },
    {
     "data": {
      "text/html": [
       "<div>\n",
       "<style scoped>\n",
       "    .dataframe tbody tr th:only-of-type {\n",
       "        vertical-align: middle;\n",
       "    }\n",
       "\n",
       "    .dataframe tbody tr th {\n",
       "        vertical-align: top;\n",
       "    }\n",
       "\n",
       "    .dataframe thead th {\n",
       "        text-align: right;\n",
       "    }\n",
       "</style>\n",
       "<table border=\"1\" class=\"dataframe\">\n",
       "  <thead>\n",
       "    <tr style=\"text-align: right;\">\n",
       "      <th></th>\n",
       "      <th>Open</th>\n",
       "      <th>High</th>\n",
       "      <th>Low</th>\n",
       "      <th>Close</th>\n",
       "      <th>Volume</th>\n",
       "      <th>Close time</th>\n",
       "      <th>Quote volume</th>\n",
       "      <th>Number of trades</th>\n",
       "      <th>Taker base volume</th>\n",
       "      <th>Taker quote volume</th>\n",
       "    </tr>\n",
       "    <tr>\n",
       "      <th>Open time</th>\n",
       "      <th></th>\n",
       "      <th></th>\n",
       "      <th></th>\n",
       "      <th></th>\n",
       "      <th></th>\n",
       "      <th></th>\n",
       "      <th></th>\n",
       "      <th></th>\n",
       "      <th></th>\n",
       "      <th></th>\n",
       "    </tr>\n",
       "  </thead>\n",
       "  <tbody>\n",
       "    <tr>\n",
       "      <th>2023-01-02 00:00:00+00:00</th>\n",
       "      <td>16617.17</td>\n",
       "      <td>16799.23</td>\n",
       "      <td>16548.70</td>\n",
       "      <td>16672.87</td>\n",
       "      <td>121888.57191</td>\n",
       "      <td>2023-01-02 23:59:59.999000+00:00</td>\n",
       "      <td>2.034683e+09</td>\n",
       "      <td>4036118</td>\n",
       "      <td>60925.25948</td>\n",
       "      <td>1.017075e+09</td>\n",
       "    </tr>\n",
       "    <tr>\n",
       "      <th>2023-01-03 00:00:00+00:00</th>\n",
       "      <td>16672.78</td>\n",
       "      <td>16778.40</td>\n",
       "      <td>16605.28</td>\n",
       "      <td>16675.18</td>\n",
       "      <td>159541.53733</td>\n",
       "      <td>2023-01-03 23:59:59.999000+00:00</td>\n",
       "      <td>2.662766e+09</td>\n",
       "      <td>5097596</td>\n",
       "      <td>79595.76246</td>\n",
       "      <td>1.328471e+09</td>\n",
       "    </tr>\n",
       "    <tr>\n",
       "      <th>2023-01-04 00:00:00+00:00</th>\n",
       "      <td>16675.65</td>\n",
       "      <td>16991.87</td>\n",
       "      <td>16652.66</td>\n",
       "      <td>16850.36</td>\n",
       "      <td>220362.18862</td>\n",
       "      <td>2023-01-04 23:59:59.999000+00:00</td>\n",
       "      <td>3.709833e+09</td>\n",
       "      <td>6310703</td>\n",
       "      <td>109747.11502</td>\n",
       "      <td>1.847617e+09</td>\n",
       "    </tr>\n",
       "    <tr>\n",
       "      <th>2023-01-05 00:00:00+00:00</th>\n",
       "      <td>16850.36</td>\n",
       "      <td>16879.82</td>\n",
       "      <td>16753.00</td>\n",
       "      <td>16831.85</td>\n",
       "      <td>163473.56641</td>\n",
       "      <td>2023-01-05 23:59:59.999000+00:00</td>\n",
       "      <td>2.751080e+09</td>\n",
       "      <td>4842014</td>\n",
       "      <td>80959.57162</td>\n",
       "      <td>1.362472e+09</td>\n",
       "    </tr>\n",
       "    <tr>\n",
       "      <th>2023-01-06 00:00:00+00:00</th>\n",
       "      <td>16831.85</td>\n",
       "      <td>17041.00</td>\n",
       "      <td>16679.00</td>\n",
       "      <td>16950.65</td>\n",
       "      <td>207401.28415</td>\n",
       "      <td>2023-01-06 23:59:59.999000+00:00</td>\n",
       "      <td>3.490305e+09</td>\n",
       "      <td>5388661</td>\n",
       "      <td>103320.22965</td>\n",
       "      <td>1.738828e+09</td>\n",
       "    </tr>\n",
       "    <tr>\n",
       "      <th>...</th>\n",
       "      <td>...</td>\n",
       "      <td>...</td>\n",
       "      <td>...</td>\n",
       "      <td>...</td>\n",
       "      <td>...</td>\n",
       "      <td>...</td>\n",
       "      <td>...</td>\n",
       "      <td>...</td>\n",
       "      <td>...</td>\n",
       "      <td>...</td>\n",
       "    </tr>\n",
       "    <tr>\n",
       "      <th>2024-09-03 00:00:00+00:00</th>\n",
       "      <td>59132.12</td>\n",
       "      <td>59809.65</td>\n",
       "      <td>57415.00</td>\n",
       "      <td>57487.73</td>\n",
       "      <td>22828.18447</td>\n",
       "      <td>2024-09-03 23:59:59.999000+00:00</td>\n",
       "      <td>1.335077e+09</td>\n",
       "      <td>2208758</td>\n",
       "      <td>10979.79204</td>\n",
       "      <td>6.422527e+08</td>\n",
       "    </tr>\n",
       "    <tr>\n",
       "      <th>2024-09-04 00:00:00+00:00</th>\n",
       "      <td>57487.74</td>\n",
       "      <td>58519.00</td>\n",
       "      <td>55606.00</td>\n",
       "      <td>57970.90</td>\n",
       "      <td>35560.82146</td>\n",
       "      <td>2024-09-04 23:59:59.999000+00:00</td>\n",
       "      <td>2.027631e+09</td>\n",
       "      <td>3177549</td>\n",
       "      <td>16861.75483</td>\n",
       "      <td>9.619232e+08</td>\n",
       "    </tr>\n",
       "    <tr>\n",
       "      <th>2024-09-05 00:00:00+00:00</th>\n",
       "      <td>57970.90</td>\n",
       "      <td>58327.07</td>\n",
       "      <td>55643.65</td>\n",
       "      <td>56180.00</td>\n",
       "      <td>27806.91413</td>\n",
       "      <td>2024-09-05 23:59:59.999000+00:00</td>\n",
       "      <td>1.577771e+09</td>\n",
       "      <td>3368058</td>\n",
       "      <td>12955.88970</td>\n",
       "      <td>7.349969e+08</td>\n",
       "    </tr>\n",
       "    <tr>\n",
       "      <th>2024-09-06 00:00:00+00:00</th>\n",
       "      <td>56180.00</td>\n",
       "      <td>57008.00</td>\n",
       "      <td>52550.00</td>\n",
       "      <td>53962.97</td>\n",
       "      <td>54447.76826</td>\n",
       "      <td>2024-09-06 23:59:59.999000+00:00</td>\n",
       "      <td>2.988915e+09</td>\n",
       "      <td>5287281</td>\n",
       "      <td>25325.18849</td>\n",
       "      <td>1.390546e+09</td>\n",
       "    </tr>\n",
       "    <tr>\n",
       "      <th>2024-09-07 00:00:00+00:00</th>\n",
       "      <td>53962.97</td>\n",
       "      <td>54850.00</td>\n",
       "      <td>53745.54</td>\n",
       "      <td>54358.07</td>\n",
       "      <td>14223.90869</td>\n",
       "      <td>2024-09-07 23:59:59.999000+00:00</td>\n",
       "      <td>7.720913e+08</td>\n",
       "      <td>1639140</td>\n",
       "      <td>6872.38114</td>\n",
       "      <td>3.730952e+08</td>\n",
       "    </tr>\n",
       "  </tbody>\n",
       "</table>\n",
       "<p>615 rows × 10 columns</p>\n",
       "</div>"
      ],
      "text/plain": [
       "                               Open      High       Low     Close  \\\n",
       "Open time                                                           \n",
       "2023-01-02 00:00:00+00:00  16617.17  16799.23  16548.70  16672.87   \n",
       "2023-01-03 00:00:00+00:00  16672.78  16778.40  16605.28  16675.18   \n",
       "2023-01-04 00:00:00+00:00  16675.65  16991.87  16652.66  16850.36   \n",
       "2023-01-05 00:00:00+00:00  16850.36  16879.82  16753.00  16831.85   \n",
       "2023-01-06 00:00:00+00:00  16831.85  17041.00  16679.00  16950.65   \n",
       "...                             ...       ...       ...       ...   \n",
       "2024-09-03 00:00:00+00:00  59132.12  59809.65  57415.00  57487.73   \n",
       "2024-09-04 00:00:00+00:00  57487.74  58519.00  55606.00  57970.90   \n",
       "2024-09-05 00:00:00+00:00  57970.90  58327.07  55643.65  56180.00   \n",
       "2024-09-06 00:00:00+00:00  56180.00  57008.00  52550.00  53962.97   \n",
       "2024-09-07 00:00:00+00:00  53962.97  54850.00  53745.54  54358.07   \n",
       "\n",
       "                                 Volume                       Close time  \\\n",
       "Open time                                                                  \n",
       "2023-01-02 00:00:00+00:00  121888.57191 2023-01-02 23:59:59.999000+00:00   \n",
       "2023-01-03 00:00:00+00:00  159541.53733 2023-01-03 23:59:59.999000+00:00   \n",
       "2023-01-04 00:00:00+00:00  220362.18862 2023-01-04 23:59:59.999000+00:00   \n",
       "2023-01-05 00:00:00+00:00  163473.56641 2023-01-05 23:59:59.999000+00:00   \n",
       "2023-01-06 00:00:00+00:00  207401.28415 2023-01-06 23:59:59.999000+00:00   \n",
       "...                                 ...                              ...   \n",
       "2024-09-03 00:00:00+00:00   22828.18447 2024-09-03 23:59:59.999000+00:00   \n",
       "2024-09-04 00:00:00+00:00   35560.82146 2024-09-04 23:59:59.999000+00:00   \n",
       "2024-09-05 00:00:00+00:00   27806.91413 2024-09-05 23:59:59.999000+00:00   \n",
       "2024-09-06 00:00:00+00:00   54447.76826 2024-09-06 23:59:59.999000+00:00   \n",
       "2024-09-07 00:00:00+00:00   14223.90869 2024-09-07 23:59:59.999000+00:00   \n",
       "\n",
       "                           Quote volume  Number of trades  Taker base volume  \\\n",
       "Open time                                                                      \n",
       "2023-01-02 00:00:00+00:00  2.034683e+09           4036118        60925.25948   \n",
       "2023-01-03 00:00:00+00:00  2.662766e+09           5097596        79595.76246   \n",
       "2023-01-04 00:00:00+00:00  3.709833e+09           6310703       109747.11502   \n",
       "2023-01-05 00:00:00+00:00  2.751080e+09           4842014        80959.57162   \n",
       "2023-01-06 00:00:00+00:00  3.490305e+09           5388661       103320.22965   \n",
       "...                                 ...               ...                ...   \n",
       "2024-09-03 00:00:00+00:00  1.335077e+09           2208758        10979.79204   \n",
       "2024-09-04 00:00:00+00:00  2.027631e+09           3177549        16861.75483   \n",
       "2024-09-05 00:00:00+00:00  1.577771e+09           3368058        12955.88970   \n",
       "2024-09-06 00:00:00+00:00  2.988915e+09           5287281        25325.18849   \n",
       "2024-09-07 00:00:00+00:00  7.720913e+08           1639140         6872.38114   \n",
       "\n",
       "                           Taker quote volume  \n",
       "Open time                                      \n",
       "2023-01-02 00:00:00+00:00        1.017075e+09  \n",
       "2023-01-03 00:00:00+00:00        1.328471e+09  \n",
       "2023-01-04 00:00:00+00:00        1.847617e+09  \n",
       "2023-01-05 00:00:00+00:00        1.362472e+09  \n",
       "2023-01-06 00:00:00+00:00        1.738828e+09  \n",
       "...                                       ...  \n",
       "2024-09-03 00:00:00+00:00        6.422527e+08  \n",
       "2024-09-04 00:00:00+00:00        9.619232e+08  \n",
       "2024-09-05 00:00:00+00:00        7.349969e+08  \n",
       "2024-09-06 00:00:00+00:00        1.390546e+09  \n",
       "2024-09-07 00:00:00+00:00        3.730952e+08  \n",
       "\n",
       "[615 rows x 10 columns]"
      ]
     },
     "execution_count": 35,
     "metadata": {},
     "output_type": "execute_result"
    }
   ],
   "source": [
    "import vectorbt as vbt\n",
    "import pandas as pd\n",
    "\n",
    "# Defina o símbolo da criptomoeda (por exemplo, Bitcoin em relação ao USDT)\n",
    "crypto_symbol = 'BTCUSDT'\n",
    "\n",
    "# Defina o intervalo e o período para baixar os dados\n",
    "start_date = '2023-01-01'  # Data de início\n",
    "end_date = 'now UTC'       # Data final (agora em UTC)\n",
    "interval = '1d'            # Intervalo (1 dia)\n",
    "\n",
    "# Baixe os dados\n",
    "cripto_data = vbt.BinanceData.download(\n",
    "    crypto_symbol,\n",
    "    start=start_date,\n",
    "    end=end_date,\n",
    "    interval=interval\n",
    ")\n",
    "\n",
    "# Obtenha os dados em um DataFrame\n",
    "data_df = cripto_data.get()\n",
    "\n",
    "# Exiba \n",
    "data_df\n"
   ]
  },
  {
   "cell_type": "markdown",
   "id": "850901e1-3d31-4214-a176-09782d9727a3",
   "metadata": {},
   "source": [
    "# CCXT - Crypto"
   ]
  },
  {
   "cell_type": "markdown",
   "id": "58bce9e5-a3d4-45c4-9b52-a4c04981b395",
   "metadata": {},
   "source": [
    "## Instalação de pendências"
   ]
  },
  {
   "cell_type": "code",
   "execution_count": 3,
   "id": "e04d1a54-5b31-4a7d-beaa-761227e42cae",
   "metadata": {},
   "outputs": [
    {
     "name": "stdout",
     "output_type": "stream",
     "text": [
      "Requirement already satisfied: ccxt in c:\\users\\romar\\anaconda3\\lib\\site-packages (4.3.98)\n",
      "Requirement already satisfied: plotly in c:\\users\\romar\\anaconda3\\lib\\site-packages (5.24.0)\n",
      "Requirement already satisfied: setuptools>=60.9.0 in c:\\users\\romar\\anaconda3\\lib\\site-packages (from ccxt) (68.2.2)\n",
      "Requirement already satisfied: certifi>=2018.1.18 in c:\\users\\romar\\anaconda3\\lib\\site-packages (from ccxt) (2024.7.4)\n",
      "Requirement already satisfied: requests>=2.18.4 in c:\\users\\romar\\anaconda3\\lib\\site-packages (from ccxt) (2.31.0)\n",
      "Requirement already satisfied: cryptography>=2.6.1 in c:\\users\\romar\\anaconda3\\lib\\site-packages (from ccxt) (42.0.2)\n",
      "Requirement already satisfied: typing-extensions>=4.4.0 in c:\\users\\romar\\anaconda3\\lib\\site-packages (from ccxt) (4.9.0)\n",
      "Requirement already satisfied: aiohttp>=3.8 in c:\\users\\romar\\anaconda3\\lib\\site-packages (from ccxt) (3.9.3)\n",
      "Requirement already satisfied: aiodns>=1.1.1 in c:\\users\\romar\\anaconda3\\lib\\site-packages (from ccxt) (3.2.0)\n",
      "Requirement already satisfied: yarl>=1.7.2 in c:\\users\\romar\\anaconda3\\lib\\site-packages (from ccxt) (1.9.3)\n",
      "Requirement already satisfied: tenacity>=6.2.0 in c:\\users\\romar\\anaconda3\\lib\\site-packages (from plotly) (8.2.2)\n",
      "Requirement already satisfied: packaging in c:\\users\\romar\\anaconda3\\lib\\site-packages (from plotly) (23.1)\n",
      "Requirement already satisfied: pycares>=4.0.0 in c:\\users\\romar\\anaconda3\\lib\\site-packages (from aiodns>=1.1.1->ccxt) (4.4.0)\n",
      "Requirement already satisfied: aiosignal>=1.1.2 in c:\\users\\romar\\anaconda3\\lib\\site-packages (from aiohttp>=3.8->ccxt) (1.2.0)\n",
      "Requirement already satisfied: attrs>=17.3.0 in c:\\users\\romar\\anaconda3\\lib\\site-packages (from aiohttp>=3.8->ccxt) (23.1.0)\n",
      "Requirement already satisfied: frozenlist>=1.1.1 in c:\\users\\romar\\anaconda3\\lib\\site-packages (from aiohttp>=3.8->ccxt) (1.4.0)\n",
      "Requirement already satisfied: multidict<7.0,>=4.5 in c:\\users\\romar\\anaconda3\\lib\\site-packages (from aiohttp>=3.8->ccxt) (6.0.4)\n",
      "Requirement already satisfied: cffi>=1.12 in c:\\users\\romar\\anaconda3\\lib\\site-packages (from cryptography>=2.6.1->ccxt) (1.16.0)\n",
      "Requirement already satisfied: charset-normalizer<4,>=2 in c:\\users\\romar\\anaconda3\\lib\\site-packages (from requests>=2.18.4->ccxt) (2.0.4)\n",
      "Requirement already satisfied: idna<4,>=2.5 in c:\\users\\romar\\anaconda3\\lib\\site-packages (from requests>=2.18.4->ccxt) (3.4)\n",
      "Requirement already satisfied: urllib3<3,>=1.21.1 in c:\\users\\romar\\anaconda3\\lib\\site-packages (from requests>=2.18.4->ccxt) (2.0.7)\n",
      "Requirement already satisfied: pycparser in c:\\users\\romar\\anaconda3\\lib\\site-packages (from cffi>=1.12->cryptography>=2.6.1->ccxt) (2.21)\n"
     ]
    }
   ],
   "source": [
    "!pip install ccxt plotly"
   ]
  },
  {
   "cell_type": "markdown",
   "id": "fc8e1e74-ad96-4cfe-89d4-6cb7d13aaf42",
   "metadata": {},
   "source": [
    "## Execução do código:"
   ]
  },
  {
   "cell_type": "code",
   "execution_count": null,
   "id": "1f83838c-41dc-47ba-92a3-51e291e334de",
   "metadata": {},
   "outputs": [
    {
     "data": {
      "application/vnd.plotly.v1+json": {
       "config": {
        "plotlyServerURL": "https://plot.ly"
       },
       "data": [
        {
         "close": [
          60504.02,
          60490.5,
          60483.99,
          60414.39,
          60506.72,
          60548.03,
          60534.69,
          60406.06,
          60486.52,
          60436.98,
          60380.28,
          60287.99,
          60357.99,
          60402.38,
          60340,
          60329.37,
          60291.69,
          60321.99,
          60265.01,
          60213.05,
          60200,
          60102,
          60143.58,
          59926,
          60020,
          59979.99,
          60013.99,
          60046,
          60044,
          60094,
          60145.99,
          60138.14,
          60036,
          59983.13,
          60005.5,
          59973.99,
          60005.98,
          59964.33,
          59931.99,
          60070.2,
          60008,
          59981.96,
          59929,
          59851.09,
          59756,
          59790.21,
          59687.4,
          59706.39,
          59773.99,
          59814.02,
          59769.53,
          59794.03,
          59764,
          59690.02,
          59731.99,
          59769.11,
          59722.02,
          59937.99,
          59884.05,
          59914,
          59907.8,
          59929.3,
          59844.31,
          59876,
          59921.99,
          59861.84,
          59881.1
         ],
         "high": [
          60592,
          60610.45,
          60502,
          60493.95,
          60595.7,
          60552,
          60575.34,
          60540.92,
          60495.85,
          60496,
          60436.98,
          60415.74,
          60382,
          60426,
          60431.98,
          60360,
          60342,
          60348.24,
          60322.34,
          60278.99,
          60242.47,
          60216.99,
          60151.61,
          60143.58,
          60026,
          60020.01,
          60015.16,
          60079.36,
          60046.01,
          60094,
          60174,
          60172,
          60156,
          60055,
          60048,
          60005.51,
          60043.71,
          60005.99,
          59988,
          60070.21,
          60070.21,
          60007.99,
          59981.97,
          59929,
          59851.1,
          59830,
          59818.49,
          59722,
          59774,
          59821.16,
          59817.22,
          59851.27,
          59794.03,
          59764.01,
          59740,
          59775.32,
          59778.97,
          59992.05,
          60010,
          59948.58,
          59949.11,
          59948,
          59929.3,
          59900,
          59922,
          59976,
          59881.1
         ],
         "low": [
          60475,
          60490.5,
          60372.77,
          60408.62,
          60414.39,
          60490,
          60500,
          60406.06,
          60406.06,
          60414,
          60378.64,
          60285.55,
          60287.99,
          60357.99,
          60340,
          60317.45,
          60290.16,
          60272.32,
          60250,
          60184.86,
          60190,
          60088,
          60041.96,
          59900.32,
          59900,
          59954,
          59900,
          60002.01,
          59998.01,
          60028.01,
          60092.01,
          60120.62,
          60020,
          59980.2,
          59983.12,
          59933.94,
          59972.89,
          59940,
          59858.58,
          59868.02,
          59961.1,
          59929.4,
          59897.86,
          59789.32,
          59699.17,
          59732.8,
          59650,
          59605.98,
          59626.01,
          59746,
          59760,
          59766.23,
          59743.77,
          59664,
          59646,
          59714,
          59706.81,
          59706,
          59850,
          59862.38,
          59877.01,
          59880,
          59841.53,
          59828.07,
          59838.22,
          59860,
          59861.84
         ],
         "name": "BTC/USDT",
         "open": [
          60497.99,
          60504.02,
          60490.5,
          60484,
          60414.39,
          60506.72,
          60548.04,
          60534.68,
          60406.06,
          60486.52,
          60436.98,
          60380.27,
          60288,
          60357.99,
          60402.38,
          60340,
          60329.38,
          60291.7,
          60321.98,
          60265.01,
          60213.06,
          60200,
          60102,
          60143.57,
          59926,
          60020.01,
          59979.99,
          60014,
          60046.01,
          60044,
          60093.99,
          60145.99,
          60138.14,
          60035.99,
          59983.13,
          60005.5,
          59973.99,
          60005.98,
          59964.33,
          59932,
          60070.2,
          60007.99,
          59981.96,
          59929,
          59851.1,
          59755.99,
          59790.2,
          59687.4,
          59706.4,
          59773.99,
          59814.02,
          59769.54,
          59794.03,
          59764,
          59690.02,
          59731.99,
          59769.11,
          59722.02,
          59938,
          59884.05,
          59914,
          59907.8,
          59929.29,
          59844.31,
          59875.99,
          59921.99,
          59861.84
         ],
         "type": "candlestick",
         "x": [
          "2024-09-14T00:00:00",
          "2024-09-14T00:15:00",
          "2024-09-14T00:30:00",
          "2024-09-14T00:45:00",
          "2024-09-14T01:00:00",
          "2024-09-14T01:15:00",
          "2024-09-14T01:30:00",
          "2024-09-14T01:45:00",
          "2024-09-14T02:00:00",
          "2024-09-14T02:15:00",
          "2024-09-14T02:30:00",
          "2024-09-14T02:45:00",
          "2024-09-14T03:00:00",
          "2024-09-14T03:15:00",
          "2024-09-14T03:30:00",
          "2024-09-14T03:45:00",
          "2024-09-14T04:00:00",
          "2024-09-14T04:15:00",
          "2024-09-14T04:30:00",
          "2024-09-14T04:45:00",
          "2024-09-14T05:00:00",
          "2024-09-14T05:15:00",
          "2024-09-14T05:30:00",
          "2024-09-14T05:45:00",
          "2024-09-14T06:00:00",
          "2024-09-14T06:15:00",
          "2024-09-14T06:30:00",
          "2024-09-14T06:45:00",
          "2024-09-14T07:00:00",
          "2024-09-14T07:15:00",
          "2024-09-14T07:30:00",
          "2024-09-14T07:45:00",
          "2024-09-14T08:00:00",
          "2024-09-14T08:15:00",
          "2024-09-14T08:30:00",
          "2024-09-14T08:45:00",
          "2024-09-14T09:00:00",
          "2024-09-14T09:15:00",
          "2024-09-14T09:30:00",
          "2024-09-14T09:45:00",
          "2024-09-14T10:00:00",
          "2024-09-14T10:15:00",
          "2024-09-14T10:30:00",
          "2024-09-14T10:45:00",
          "2024-09-14T11:00:00",
          "2024-09-14T11:15:00",
          "2024-09-14T11:30:00",
          "2024-09-14T11:45:00",
          "2024-09-14T12:00:00",
          "2024-09-14T12:15:00",
          "2024-09-14T12:30:00",
          "2024-09-14T12:45:00",
          "2024-09-14T13:00:00",
          "2024-09-14T13:15:00",
          "2024-09-14T13:30:00",
          "2024-09-14T13:45:00",
          "2024-09-14T14:00:00",
          "2024-09-14T14:15:00",
          "2024-09-14T14:30:00",
          "2024-09-14T14:45:00",
          "2024-09-14T15:00:00",
          "2024-09-14T15:15:00",
          "2024-09-14T15:30:00",
          "2024-09-14T15:45:00",
          "2024-09-14T16:00:00",
          "2024-09-14T16:15:00",
          "2024-09-14T16:30:00"
         ]
        }
       ],
       "layout": {
        "height": 360,
        "template": {
         "data": {
          "bar": [
           {
            "error_x": {
             "color": "#2a3f5f"
            },
            "error_y": {
             "color": "#2a3f5f"
            },
            "marker": {
             "line": {
              "color": "#E5ECF6",
              "width": 0.5
             },
             "pattern": {
              "fillmode": "overlay",
              "size": 10,
              "solidity": 0.2
             }
            },
            "type": "bar"
           }
          ],
          "barpolar": [
           {
            "marker": {
             "line": {
              "color": "#E5ECF6",
              "width": 0.5
             },
             "pattern": {
              "fillmode": "overlay",
              "size": 10,
              "solidity": 0.2
             }
            },
            "type": "barpolar"
           }
          ],
          "carpet": [
           {
            "aaxis": {
             "endlinecolor": "#2a3f5f",
             "gridcolor": "white",
             "linecolor": "white",
             "minorgridcolor": "white",
             "startlinecolor": "#2a3f5f"
            },
            "baxis": {
             "endlinecolor": "#2a3f5f",
             "gridcolor": "white",
             "linecolor": "white",
             "minorgridcolor": "white",
             "startlinecolor": "#2a3f5f"
            },
            "type": "carpet"
           }
          ],
          "choropleth": [
           {
            "colorbar": {
             "outlinewidth": 0,
             "ticks": ""
            },
            "type": "choropleth"
           }
          ],
          "contour": [
           {
            "colorbar": {
             "outlinewidth": 0,
             "ticks": ""
            },
            "colorscale": [
             [
              0,
              "#0d0887"
             ],
             [
              0.1111111111111111,
              "#46039f"
             ],
             [
              0.2222222222222222,
              "#7201a8"
             ],
             [
              0.3333333333333333,
              "#9c179e"
             ],
             [
              0.4444444444444444,
              "#bd3786"
             ],
             [
              0.5555555555555556,
              "#d8576b"
             ],
             [
              0.6666666666666666,
              "#ed7953"
             ],
             [
              0.7777777777777778,
              "#fb9f3a"
             ],
             [
              0.8888888888888888,
              "#fdca26"
             ],
             [
              1,
              "#f0f921"
             ]
            ],
            "type": "contour"
           }
          ],
          "contourcarpet": [
           {
            "colorbar": {
             "outlinewidth": 0,
             "ticks": ""
            },
            "type": "contourcarpet"
           }
          ],
          "heatmap": [
           {
            "colorbar": {
             "outlinewidth": 0,
             "ticks": ""
            },
            "colorscale": [
             [
              0,
              "#0d0887"
             ],
             [
              0.1111111111111111,
              "#46039f"
             ],
             [
              0.2222222222222222,
              "#7201a8"
             ],
             [
              0.3333333333333333,
              "#9c179e"
             ],
             [
              0.4444444444444444,
              "#bd3786"
             ],
             [
              0.5555555555555556,
              "#d8576b"
             ],
             [
              0.6666666666666666,
              "#ed7953"
             ],
             [
              0.7777777777777778,
              "#fb9f3a"
             ],
             [
              0.8888888888888888,
              "#fdca26"
             ],
             [
              1,
              "#f0f921"
             ]
            ],
            "type": "heatmap"
           }
          ],
          "heatmapgl": [
           {
            "colorbar": {
             "outlinewidth": 0,
             "ticks": ""
            },
            "colorscale": [
             [
              0,
              "#0d0887"
             ],
             [
              0.1111111111111111,
              "#46039f"
             ],
             [
              0.2222222222222222,
              "#7201a8"
             ],
             [
              0.3333333333333333,
              "#9c179e"
             ],
             [
              0.4444444444444444,
              "#bd3786"
             ],
             [
              0.5555555555555556,
              "#d8576b"
             ],
             [
              0.6666666666666666,
              "#ed7953"
             ],
             [
              0.7777777777777778,
              "#fb9f3a"
             ],
             [
              0.8888888888888888,
              "#fdca26"
             ],
             [
              1,
              "#f0f921"
             ]
            ],
            "type": "heatmapgl"
           }
          ],
          "histogram": [
           {
            "marker": {
             "pattern": {
              "fillmode": "overlay",
              "size": 10,
              "solidity": 0.2
             }
            },
            "type": "histogram"
           }
          ],
          "histogram2d": [
           {
            "colorbar": {
             "outlinewidth": 0,
             "ticks": ""
            },
            "colorscale": [
             [
              0,
              "#0d0887"
             ],
             [
              0.1111111111111111,
              "#46039f"
             ],
             [
              0.2222222222222222,
              "#7201a8"
             ],
             [
              0.3333333333333333,
              "#9c179e"
             ],
             [
              0.4444444444444444,
              "#bd3786"
             ],
             [
              0.5555555555555556,
              "#d8576b"
             ],
             [
              0.6666666666666666,
              "#ed7953"
             ],
             [
              0.7777777777777778,
              "#fb9f3a"
             ],
             [
              0.8888888888888888,
              "#fdca26"
             ],
             [
              1,
              "#f0f921"
             ]
            ],
            "type": "histogram2d"
           }
          ],
          "histogram2dcontour": [
           {
            "colorbar": {
             "outlinewidth": 0,
             "ticks": ""
            },
            "colorscale": [
             [
              0,
              "#0d0887"
             ],
             [
              0.1111111111111111,
              "#46039f"
             ],
             [
              0.2222222222222222,
              "#7201a8"
             ],
             [
              0.3333333333333333,
              "#9c179e"
             ],
             [
              0.4444444444444444,
              "#bd3786"
             ],
             [
              0.5555555555555556,
              "#d8576b"
             ],
             [
              0.6666666666666666,
              "#ed7953"
             ],
             [
              0.7777777777777778,
              "#fb9f3a"
             ],
             [
              0.8888888888888888,
              "#fdca26"
             ],
             [
              1,
              "#f0f921"
             ]
            ],
            "type": "histogram2dcontour"
           }
          ],
          "mesh3d": [
           {
            "colorbar": {
             "outlinewidth": 0,
             "ticks": ""
            },
            "type": "mesh3d"
           }
          ],
          "parcoords": [
           {
            "line": {
             "colorbar": {
              "outlinewidth": 0,
              "ticks": ""
             }
            },
            "type": "parcoords"
           }
          ],
          "pie": [
           {
            "automargin": true,
            "type": "pie"
           }
          ],
          "scatter": [
           {
            "fillpattern": {
             "fillmode": "overlay",
             "size": 10,
             "solidity": 0.2
            },
            "type": "scatter"
           }
          ],
          "scatter3d": [
           {
            "line": {
             "colorbar": {
              "outlinewidth": 0,
              "ticks": ""
             }
            },
            "marker": {
             "colorbar": {
              "outlinewidth": 0,
              "ticks": ""
             }
            },
            "type": "scatter3d"
           }
          ],
          "scattercarpet": [
           {
            "marker": {
             "colorbar": {
              "outlinewidth": 0,
              "ticks": ""
             }
            },
            "type": "scattercarpet"
           }
          ],
          "scattergeo": [
           {
            "marker": {
             "colorbar": {
              "outlinewidth": 0,
              "ticks": ""
             }
            },
            "type": "scattergeo"
           }
          ],
          "scattergl": [
           {
            "marker": {
             "colorbar": {
              "outlinewidth": 0,
              "ticks": ""
             }
            },
            "type": "scattergl"
           }
          ],
          "scattermapbox": [
           {
            "marker": {
             "colorbar": {
              "outlinewidth": 0,
              "ticks": ""
             }
            },
            "type": "scattermapbox"
           }
          ],
          "scatterpolar": [
           {
            "marker": {
             "colorbar": {
              "outlinewidth": 0,
              "ticks": ""
             }
            },
            "type": "scatterpolar"
           }
          ],
          "scatterpolargl": [
           {
            "marker": {
             "colorbar": {
              "outlinewidth": 0,
              "ticks": ""
             }
            },
            "type": "scatterpolargl"
           }
          ],
          "scatterternary": [
           {
            "marker": {
             "colorbar": {
              "outlinewidth": 0,
              "ticks": ""
             }
            },
            "type": "scatterternary"
           }
          ],
          "surface": [
           {
            "colorbar": {
             "outlinewidth": 0,
             "ticks": ""
            },
            "colorscale": [
             [
              0,
              "#0d0887"
             ],
             [
              0.1111111111111111,
              "#46039f"
             ],
             [
              0.2222222222222222,
              "#7201a8"
             ],
             [
              0.3333333333333333,
              "#9c179e"
             ],
             [
              0.4444444444444444,
              "#bd3786"
             ],
             [
              0.5555555555555556,
              "#d8576b"
             ],
             [
              0.6666666666666666,
              "#ed7953"
             ],
             [
              0.7777777777777778,
              "#fb9f3a"
             ],
             [
              0.8888888888888888,
              "#fdca26"
             ],
             [
              1,
              "#f0f921"
             ]
            ],
            "type": "surface"
           }
          ],
          "table": [
           {
            "cells": {
             "fill": {
              "color": "#EBF0F8"
             },
             "line": {
              "color": "white"
             }
            },
            "header": {
             "fill": {
              "color": "#C8D4E3"
             },
             "line": {
              "color": "white"
             }
            },
            "type": "table"
           }
          ]
         },
         "layout": {
          "annotationdefaults": {
           "arrowcolor": "#2a3f5f",
           "arrowhead": 0,
           "arrowwidth": 1
          },
          "autotypenumbers": "strict",
          "coloraxis": {
           "colorbar": {
            "outlinewidth": 0,
            "ticks": ""
           }
          },
          "colorscale": {
           "diverging": [
            [
             0,
             "#8e0152"
            ],
            [
             0.1,
             "#c51b7d"
            ],
            [
             0.2,
             "#de77ae"
            ],
            [
             0.3,
             "#f1b6da"
            ],
            [
             0.4,
             "#fde0ef"
            ],
            [
             0.5,
             "#f7f7f7"
            ],
            [
             0.6,
             "#e6f5d0"
            ],
            [
             0.7,
             "#b8e186"
            ],
            [
             0.8,
             "#7fbc41"
            ],
            [
             0.9,
             "#4d9221"
            ],
            [
             1,
             "#276419"
            ]
           ],
           "sequential": [
            [
             0,
             "#0d0887"
            ],
            [
             0.1111111111111111,
             "#46039f"
            ],
            [
             0.2222222222222222,
             "#7201a8"
            ],
            [
             0.3333333333333333,
             "#9c179e"
            ],
            [
             0.4444444444444444,
             "#bd3786"
            ],
            [
             0.5555555555555556,
             "#d8576b"
            ],
            [
             0.6666666666666666,
             "#ed7953"
            ],
            [
             0.7777777777777778,
             "#fb9f3a"
            ],
            [
             0.8888888888888888,
             "#fdca26"
            ],
            [
             1,
             "#f0f921"
            ]
           ],
           "sequentialminus": [
            [
             0,
             "#0d0887"
            ],
            [
             0.1111111111111111,
             "#46039f"
            ],
            [
             0.2222222222222222,
             "#7201a8"
            ],
            [
             0.3333333333333333,
             "#9c179e"
            ],
            [
             0.4444444444444444,
             "#bd3786"
            ],
            [
             0.5555555555555556,
             "#d8576b"
            ],
            [
             0.6666666666666666,
             "#ed7953"
            ],
            [
             0.7777777777777778,
             "#fb9f3a"
            ],
            [
             0.8888888888888888,
             "#fdca26"
            ],
            [
             1,
             "#f0f921"
            ]
           ]
          },
          "colorway": [
           "#636efa",
           "#EF553B",
           "#00cc96",
           "#ab63fa",
           "#FFA15A",
           "#19d3f3",
           "#FF6692",
           "#B6E880",
           "#FF97FF",
           "#FECB52"
          ],
          "font": {
           "color": "#2a3f5f"
          },
          "geo": {
           "bgcolor": "white",
           "lakecolor": "white",
           "landcolor": "#E5ECF6",
           "showlakes": true,
           "showland": true,
           "subunitcolor": "white"
          },
          "hoverlabel": {
           "align": "left"
          },
          "hovermode": "closest",
          "mapbox": {
           "style": "light"
          },
          "paper_bgcolor": "white",
          "plot_bgcolor": "#E5ECF6",
          "polar": {
           "angularaxis": {
            "gridcolor": "white",
            "linecolor": "white",
            "ticks": ""
           },
           "bgcolor": "#E5ECF6",
           "radialaxis": {
            "gridcolor": "white",
            "linecolor": "white",
            "ticks": ""
           }
          },
          "scene": {
           "xaxis": {
            "backgroundcolor": "#E5ECF6",
            "gridcolor": "white",
            "gridwidth": 2,
            "linecolor": "white",
            "showbackground": true,
            "ticks": "",
            "zerolinecolor": "white"
           },
           "yaxis": {
            "backgroundcolor": "#E5ECF6",
            "gridcolor": "white",
            "gridwidth": 2,
            "linecolor": "white",
            "showbackground": true,
            "ticks": "",
            "zerolinecolor": "white"
           },
           "zaxis": {
            "backgroundcolor": "#E5ECF6",
            "gridcolor": "white",
            "gridwidth": 2,
            "linecolor": "white",
            "showbackground": true,
            "ticks": "",
            "zerolinecolor": "white"
           }
          },
          "shapedefaults": {
           "line": {
            "color": "#2a3f5f"
           }
          },
          "ternary": {
           "aaxis": {
            "gridcolor": "white",
            "linecolor": "white",
            "ticks": ""
           },
           "baxis": {
            "gridcolor": "white",
            "linecolor": "white",
            "ticks": ""
           },
           "bgcolor": "#E5ECF6",
           "caxis": {
            "gridcolor": "white",
            "linecolor": "white",
            "ticks": ""
           }
          },
          "title": {
           "x": 0.05
          },
          "xaxis": {
           "automargin": true,
           "gridcolor": "white",
           "linecolor": "white",
           "ticks": "",
           "title": {
            "standoff": 15
           },
           "zerolinecolor": "white",
           "zerolinewidth": 2
          },
          "yaxis": {
           "automargin": true,
           "gridcolor": "white",
           "linecolor": "white",
           "ticks": "",
           "title": {
            "standoff": 15
           },
           "zerolinecolor": "white",
           "zerolinewidth": 2
          }
         }
        },
        "title": {
         "text": "BTC/USDT Candlestick Chart"
        },
        "xaxis": {
         "autorange": true,
         "range": [
          "2024-09-13 23:52:30",
          "2024-09-14 16:37:30"
         ],
         "rangeslider": {
          "autorange": true,
          "range": [
           "2024-09-13 23:52:30",
           "2024-09-14 16:37:30"
          ],
          "yaxis": {
           "_template": null,
           "rangemode": "match"
          }
         },
         "title": {
          "text": "Time"
         },
         "type": "date"
        },
        "yaxis": {
         "autorange": true,
         "range": [
          59550.17611111111,
          60666.25388888889
         ],
         "title": {
          "text": "Price (USDT)"
         }
        }
       }
      },
      "text/html": [
       "<div>                            <div id=\"d82d3f89-9cc4-41cb-9e4c-e9e2a84b0b30\" class=\"plotly-graph-div\" style=\"height:525px; width:100%;\"></div>            <script type=\"text/javascript\">                require([\"plotly\"], function(Plotly) {                    window.PLOTLYENV=window.PLOTLYENV || {};                                    if (document.getElementById(\"d82d3f89-9cc4-41cb-9e4c-e9e2a84b0b30\")) {                    Plotly.newPlot(                        \"d82d3f89-9cc4-41cb-9e4c-e9e2a84b0b30\",                        [{\"close\":[60504.02,60490.5,60483.99,60414.39,60506.72,60548.03,60534.69,60406.06,60486.52,60436.98,60380.28,60287.99,60357.99,60402.38,60340.0,60329.37,60291.69,60321.99,60265.01,60213.05,60200.0,60102.0,60143.58,59926.0,60020.0,59979.99,60013.99,60046.0,60044.0,60094.0,60145.99,60138.14,60036.0,59983.13,60005.5,59973.99,60005.98,59964.33,59931.99,60070.2,60008.0,59981.96,59929.0,59851.09,59756.0,59790.21,59687.4,59706.39,59773.99,59814.02,59769.53,59794.03,59764.0,59690.02,59731.99,59769.11,59722.02,59937.99,59884.05,59914.0,59907.8,59929.3,59844.31,59876.0,59921.99,59861.84,59881.1],\"high\":[60592.0,60610.45,60502.0,60493.95,60595.7,60552.0,60575.34,60540.92,60495.85,60496.0,60436.98,60415.74,60382.0,60426.0,60431.98,60360.0,60342.0,60348.24,60322.34,60278.99,60242.47,60216.99,60151.61,60143.58,60026.0,60020.01,60015.16,60079.36,60046.01,60094.0,60174.0,60172.0,60156.0,60055.0,60048.0,60005.51,60043.71,60005.99,59988.0,60070.21,60070.21,60007.99,59981.97,59929.0,59851.1,59830.0,59818.49,59722.0,59774.0,59821.16,59817.22,59851.27,59794.03,59764.01,59740.0,59775.32,59778.97,59992.05,60010.0,59948.58,59949.11,59948.0,59929.3,59900.0,59922.0,59976.0,59881.1],\"low\":[60475.0,60490.5,60372.77,60408.62,60414.39,60490.0,60500.0,60406.06,60406.06,60414.0,60378.64,60285.55,60287.99,60357.99,60340.0,60317.45,60290.16,60272.32,60250.0,60184.86,60190.0,60088.0,60041.96,59900.32,59900.0,59954.0,59900.0,60002.01,59998.01,60028.01,60092.01,60120.62,60020.0,59980.2,59983.12,59933.94,59972.89,59940.0,59858.58,59868.02,59961.1,59929.4,59897.86,59789.32,59699.17,59732.8,59650.0,59605.98,59626.01,59746.0,59760.0,59766.23,59743.77,59664.0,59646.0,59714.0,59706.81,59706.0,59850.0,59862.38,59877.01,59880.0,59841.53,59828.07,59838.22,59860.0,59861.84],\"name\":\"BTC\\u002fUSDT\",\"open\":[60497.99,60504.02,60490.5,60484.0,60414.39,60506.72,60548.04,60534.68,60406.06,60486.52,60436.98,60380.27,60288.0,60357.99,60402.38,60340.0,60329.38,60291.7,60321.98,60265.01,60213.06,60200.0,60102.0,60143.57,59926.0,60020.01,59979.99,60014.0,60046.01,60044.0,60093.99,60145.99,60138.14,60035.99,59983.13,60005.5,59973.99,60005.98,59964.33,59932.0,60070.2,60007.99,59981.96,59929.0,59851.1,59755.99,59790.2,59687.4,59706.4,59773.99,59814.02,59769.54,59794.03,59764.0,59690.02,59731.99,59769.11,59722.02,59938.0,59884.05,59914.0,59907.8,59929.29,59844.31,59875.99,59921.99,59861.84],\"x\":[\"2024-09-14T00:00:00\",\"2024-09-14T00:15:00\",\"2024-09-14T00:30:00\",\"2024-09-14T00:45:00\",\"2024-09-14T01:00:00\",\"2024-09-14T01:15:00\",\"2024-09-14T01:30:00\",\"2024-09-14T01:45:00\",\"2024-09-14T02:00:00\",\"2024-09-14T02:15:00\",\"2024-09-14T02:30:00\",\"2024-09-14T02:45:00\",\"2024-09-14T03:00:00\",\"2024-09-14T03:15:00\",\"2024-09-14T03:30:00\",\"2024-09-14T03:45:00\",\"2024-09-14T04:00:00\",\"2024-09-14T04:15:00\",\"2024-09-14T04:30:00\",\"2024-09-14T04:45:00\",\"2024-09-14T05:00:00\",\"2024-09-14T05:15:00\",\"2024-09-14T05:30:00\",\"2024-09-14T05:45:00\",\"2024-09-14T06:00:00\",\"2024-09-14T06:15:00\",\"2024-09-14T06:30:00\",\"2024-09-14T06:45:00\",\"2024-09-14T07:00:00\",\"2024-09-14T07:15:00\",\"2024-09-14T07:30:00\",\"2024-09-14T07:45:00\",\"2024-09-14T08:00:00\",\"2024-09-14T08:15:00\",\"2024-09-14T08:30:00\",\"2024-09-14T08:45:00\",\"2024-09-14T09:00:00\",\"2024-09-14T09:15:00\",\"2024-09-14T09:30:00\",\"2024-09-14T09:45:00\",\"2024-09-14T10:00:00\",\"2024-09-14T10:15:00\",\"2024-09-14T10:30:00\",\"2024-09-14T10:45:00\",\"2024-09-14T11:00:00\",\"2024-09-14T11:15:00\",\"2024-09-14T11:30:00\",\"2024-09-14T11:45:00\",\"2024-09-14T12:00:00\",\"2024-09-14T12:15:00\",\"2024-09-14T12:30:00\",\"2024-09-14T12:45:00\",\"2024-09-14T13:00:00\",\"2024-09-14T13:15:00\",\"2024-09-14T13:30:00\",\"2024-09-14T13:45:00\",\"2024-09-14T14:00:00\",\"2024-09-14T14:15:00\",\"2024-09-14T14:30:00\",\"2024-09-14T14:45:00\",\"2024-09-14T15:00:00\",\"2024-09-14T15:15:00\",\"2024-09-14T15:30:00\",\"2024-09-14T15:45:00\",\"2024-09-14T16:00:00\",\"2024-09-14T16:15:00\",\"2024-09-14T16:30:00\"],\"type\":\"candlestick\"}],                        {\"template\":{\"data\":{\"histogram2dcontour\":[{\"type\":\"histogram2dcontour\",\"colorbar\":{\"outlinewidth\":0,\"ticks\":\"\"},\"colorscale\":[[0.0,\"#0d0887\"],[0.1111111111111111,\"#46039f\"],[0.2222222222222222,\"#7201a8\"],[0.3333333333333333,\"#9c179e\"],[0.4444444444444444,\"#bd3786\"],[0.5555555555555556,\"#d8576b\"],[0.6666666666666666,\"#ed7953\"],[0.7777777777777778,\"#fb9f3a\"],[0.8888888888888888,\"#fdca26\"],[1.0,\"#f0f921\"]]}],\"choropleth\":[{\"type\":\"choropleth\",\"colorbar\":{\"outlinewidth\":0,\"ticks\":\"\"}}],\"histogram2d\":[{\"type\":\"histogram2d\",\"colorbar\":{\"outlinewidth\":0,\"ticks\":\"\"},\"colorscale\":[[0.0,\"#0d0887\"],[0.1111111111111111,\"#46039f\"],[0.2222222222222222,\"#7201a8\"],[0.3333333333333333,\"#9c179e\"],[0.4444444444444444,\"#bd3786\"],[0.5555555555555556,\"#d8576b\"],[0.6666666666666666,\"#ed7953\"],[0.7777777777777778,\"#fb9f3a\"],[0.8888888888888888,\"#fdca26\"],[1.0,\"#f0f921\"]]}],\"heatmap\":[{\"type\":\"heatmap\",\"colorbar\":{\"outlinewidth\":0,\"ticks\":\"\"},\"colorscale\":[[0.0,\"#0d0887\"],[0.1111111111111111,\"#46039f\"],[0.2222222222222222,\"#7201a8\"],[0.3333333333333333,\"#9c179e\"],[0.4444444444444444,\"#bd3786\"],[0.5555555555555556,\"#d8576b\"],[0.6666666666666666,\"#ed7953\"],[0.7777777777777778,\"#fb9f3a\"],[0.8888888888888888,\"#fdca26\"],[1.0,\"#f0f921\"]]}],\"heatmapgl\":[{\"type\":\"heatmapgl\",\"colorbar\":{\"outlinewidth\":0,\"ticks\":\"\"},\"colorscale\":[[0.0,\"#0d0887\"],[0.1111111111111111,\"#46039f\"],[0.2222222222222222,\"#7201a8\"],[0.3333333333333333,\"#9c179e\"],[0.4444444444444444,\"#bd3786\"],[0.5555555555555556,\"#d8576b\"],[0.6666666666666666,\"#ed7953\"],[0.7777777777777778,\"#fb9f3a\"],[0.8888888888888888,\"#fdca26\"],[1.0,\"#f0f921\"]]}],\"contourcarpet\":[{\"type\":\"contourcarpet\",\"colorbar\":{\"outlinewidth\":0,\"ticks\":\"\"}}],\"contour\":[{\"type\":\"contour\",\"colorbar\":{\"outlinewidth\":0,\"ticks\":\"\"},\"colorscale\":[[0.0,\"#0d0887\"],[0.1111111111111111,\"#46039f\"],[0.2222222222222222,\"#7201a8\"],[0.3333333333333333,\"#9c179e\"],[0.4444444444444444,\"#bd3786\"],[0.5555555555555556,\"#d8576b\"],[0.6666666666666666,\"#ed7953\"],[0.7777777777777778,\"#fb9f3a\"],[0.8888888888888888,\"#fdca26\"],[1.0,\"#f0f921\"]]}],\"surface\":[{\"type\":\"surface\",\"colorbar\":{\"outlinewidth\":0,\"ticks\":\"\"},\"colorscale\":[[0.0,\"#0d0887\"],[0.1111111111111111,\"#46039f\"],[0.2222222222222222,\"#7201a8\"],[0.3333333333333333,\"#9c179e\"],[0.4444444444444444,\"#bd3786\"],[0.5555555555555556,\"#d8576b\"],[0.6666666666666666,\"#ed7953\"],[0.7777777777777778,\"#fb9f3a\"],[0.8888888888888888,\"#fdca26\"],[1.0,\"#f0f921\"]]}],\"mesh3d\":[{\"type\":\"mesh3d\",\"colorbar\":{\"outlinewidth\":0,\"ticks\":\"\"}}],\"scatter\":[{\"fillpattern\":{\"fillmode\":\"overlay\",\"size\":10,\"solidity\":0.2},\"type\":\"scatter\"}],\"parcoords\":[{\"type\":\"parcoords\",\"line\":{\"colorbar\":{\"outlinewidth\":0,\"ticks\":\"\"}}}],\"scatterpolargl\":[{\"type\":\"scatterpolargl\",\"marker\":{\"colorbar\":{\"outlinewidth\":0,\"ticks\":\"\"}}}],\"bar\":[{\"error_x\":{\"color\":\"#2a3f5f\"},\"error_y\":{\"color\":\"#2a3f5f\"},\"marker\":{\"line\":{\"color\":\"#E5ECF6\",\"width\":0.5},\"pattern\":{\"fillmode\":\"overlay\",\"size\":10,\"solidity\":0.2}},\"type\":\"bar\"}],\"scattergeo\":[{\"type\":\"scattergeo\",\"marker\":{\"colorbar\":{\"outlinewidth\":0,\"ticks\":\"\"}}}],\"scatterpolar\":[{\"type\":\"scatterpolar\",\"marker\":{\"colorbar\":{\"outlinewidth\":0,\"ticks\":\"\"}}}],\"histogram\":[{\"marker\":{\"pattern\":{\"fillmode\":\"overlay\",\"size\":10,\"solidity\":0.2}},\"type\":\"histogram\"}],\"scattergl\":[{\"type\":\"scattergl\",\"marker\":{\"colorbar\":{\"outlinewidth\":0,\"ticks\":\"\"}}}],\"scatter3d\":[{\"type\":\"scatter3d\",\"line\":{\"colorbar\":{\"outlinewidth\":0,\"ticks\":\"\"}},\"marker\":{\"colorbar\":{\"outlinewidth\":0,\"ticks\":\"\"}}}],\"scattermapbox\":[{\"type\":\"scattermapbox\",\"marker\":{\"colorbar\":{\"outlinewidth\":0,\"ticks\":\"\"}}}],\"scatterternary\":[{\"type\":\"scatterternary\",\"marker\":{\"colorbar\":{\"outlinewidth\":0,\"ticks\":\"\"}}}],\"scattercarpet\":[{\"type\":\"scattercarpet\",\"marker\":{\"colorbar\":{\"outlinewidth\":0,\"ticks\":\"\"}}}],\"carpet\":[{\"aaxis\":{\"endlinecolor\":\"#2a3f5f\",\"gridcolor\":\"white\",\"linecolor\":\"white\",\"minorgridcolor\":\"white\",\"startlinecolor\":\"#2a3f5f\"},\"baxis\":{\"endlinecolor\":\"#2a3f5f\",\"gridcolor\":\"white\",\"linecolor\":\"white\",\"minorgridcolor\":\"white\",\"startlinecolor\":\"#2a3f5f\"},\"type\":\"carpet\"}],\"table\":[{\"cells\":{\"fill\":{\"color\":\"#EBF0F8\"},\"line\":{\"color\":\"white\"}},\"header\":{\"fill\":{\"color\":\"#C8D4E3\"},\"line\":{\"color\":\"white\"}},\"type\":\"table\"}],\"barpolar\":[{\"marker\":{\"line\":{\"color\":\"#E5ECF6\",\"width\":0.5},\"pattern\":{\"fillmode\":\"overlay\",\"size\":10,\"solidity\":0.2}},\"type\":\"barpolar\"}],\"pie\":[{\"automargin\":true,\"type\":\"pie\"}]},\"layout\":{\"autotypenumbers\":\"strict\",\"colorway\":[\"#636efa\",\"#EF553B\",\"#00cc96\",\"#ab63fa\",\"#FFA15A\",\"#19d3f3\",\"#FF6692\",\"#B6E880\",\"#FF97FF\",\"#FECB52\"],\"font\":{\"color\":\"#2a3f5f\"},\"hovermode\":\"closest\",\"hoverlabel\":{\"align\":\"left\"},\"paper_bgcolor\":\"white\",\"plot_bgcolor\":\"#E5ECF6\",\"polar\":{\"bgcolor\":\"#E5ECF6\",\"angularaxis\":{\"gridcolor\":\"white\",\"linecolor\":\"white\",\"ticks\":\"\"},\"radialaxis\":{\"gridcolor\":\"white\",\"linecolor\":\"white\",\"ticks\":\"\"}},\"ternary\":{\"bgcolor\":\"#E5ECF6\",\"aaxis\":{\"gridcolor\":\"white\",\"linecolor\":\"white\",\"ticks\":\"\"},\"baxis\":{\"gridcolor\":\"white\",\"linecolor\":\"white\",\"ticks\":\"\"},\"caxis\":{\"gridcolor\":\"white\",\"linecolor\":\"white\",\"ticks\":\"\"}},\"coloraxis\":{\"colorbar\":{\"outlinewidth\":0,\"ticks\":\"\"}},\"colorscale\":{\"sequential\":[[0.0,\"#0d0887\"],[0.1111111111111111,\"#46039f\"],[0.2222222222222222,\"#7201a8\"],[0.3333333333333333,\"#9c179e\"],[0.4444444444444444,\"#bd3786\"],[0.5555555555555556,\"#d8576b\"],[0.6666666666666666,\"#ed7953\"],[0.7777777777777778,\"#fb9f3a\"],[0.8888888888888888,\"#fdca26\"],[1.0,\"#f0f921\"]],\"sequentialminus\":[[0.0,\"#0d0887\"],[0.1111111111111111,\"#46039f\"],[0.2222222222222222,\"#7201a8\"],[0.3333333333333333,\"#9c179e\"],[0.4444444444444444,\"#bd3786\"],[0.5555555555555556,\"#d8576b\"],[0.6666666666666666,\"#ed7953\"],[0.7777777777777778,\"#fb9f3a\"],[0.8888888888888888,\"#fdca26\"],[1.0,\"#f0f921\"]],\"diverging\":[[0,\"#8e0152\"],[0.1,\"#c51b7d\"],[0.2,\"#de77ae\"],[0.3,\"#f1b6da\"],[0.4,\"#fde0ef\"],[0.5,\"#f7f7f7\"],[0.6,\"#e6f5d0\"],[0.7,\"#b8e186\"],[0.8,\"#7fbc41\"],[0.9,\"#4d9221\"],[1,\"#276419\"]]},\"xaxis\":{\"gridcolor\":\"white\",\"linecolor\":\"white\",\"ticks\":\"\",\"title\":{\"standoff\":15},\"zerolinecolor\":\"white\",\"automargin\":true,\"zerolinewidth\":2},\"yaxis\":{\"gridcolor\":\"white\",\"linecolor\":\"white\",\"ticks\":\"\",\"title\":{\"standoff\":15},\"zerolinecolor\":\"white\",\"automargin\":true,\"zerolinewidth\":2},\"scene\":{\"xaxis\":{\"backgroundcolor\":\"#E5ECF6\",\"gridcolor\":\"white\",\"linecolor\":\"white\",\"showbackground\":true,\"ticks\":\"\",\"zerolinecolor\":\"white\",\"gridwidth\":2},\"yaxis\":{\"backgroundcolor\":\"#E5ECF6\",\"gridcolor\":\"white\",\"linecolor\":\"white\",\"showbackground\":true,\"ticks\":\"\",\"zerolinecolor\":\"white\",\"gridwidth\":2},\"zaxis\":{\"backgroundcolor\":\"#E5ECF6\",\"gridcolor\":\"white\",\"linecolor\":\"white\",\"showbackground\":true,\"ticks\":\"\",\"zerolinecolor\":\"white\",\"gridwidth\":2}},\"shapedefaults\":{\"line\":{\"color\":\"#2a3f5f\"}},\"annotationdefaults\":{\"arrowcolor\":\"#2a3f5f\",\"arrowhead\":0,\"arrowwidth\":1},\"geo\":{\"bgcolor\":\"white\",\"landcolor\":\"#E5ECF6\",\"subunitcolor\":\"white\",\"showland\":true,\"showlakes\":true,\"lakecolor\":\"white\"},\"title\":{\"x\":0.05},\"mapbox\":{\"style\":\"light\"}}},\"title\":{\"text\":\"BTC\\u002fUSDT Candlestick Chart\"},\"xaxis\":{\"title\":{\"text\":\"Time\"}},\"yaxis\":{\"title\":{\"text\":\"Price (USDT)\"}}},                        {\"responsive\": true}                    ).then(function(){\n",
       "                            \n",
       "var gd = document.getElementById('d82d3f89-9cc4-41cb-9e4c-e9e2a84b0b30');\n",
       "var x = new MutationObserver(function (mutations, observer) {{\n",
       "        var display = window.getComputedStyle(gd).display;\n",
       "        if (!display || display === 'none') {{\n",
       "            console.log([gd, 'removed!']);\n",
       "            Plotly.purge(gd);\n",
       "            observer.disconnect();\n",
       "        }}\n",
       "}});\n",
       "\n",
       "// Listen for the removal of the full notebook cells\n",
       "var notebookContainer = gd.closest('#notebook-container');\n",
       "if (notebookContainer) {{\n",
       "    x.observe(notebookContainer, {childList: true});\n",
       "}}\n",
       "\n",
       "// Listen for the clearing of the current output cell\n",
       "var outputEl = gd.closest('.output');\n",
       "if (outputEl) {{\n",
       "    x.observe(outputEl, {childList: true});\n",
       "}}\n",
       "\n",
       "                        })                };                });            </script>        </div>"
      ]
     },
     "metadata": {},
     "output_type": "display_data"
    }
   ],
   "source": [
    "import ccxt\n",
    "import pandas as pd\n",
    "import plotly.graph_objs as go\n",
    "from IPython.display import display, clear_output\n",
    "import time\n",
    "\n",
    "# Inicializando a API da Binance\n",
    "exchange = ccxt.binance()\n",
    "\n",
    "# Função para obter o histórico de candles desde o início do dia\n",
    "def get_daily_candles():\n",
    "    # Obtém o timestamp do início do dia (00:00:00 UTC)\n",
    "    start_of_day = pd.Timestamp.now().normalize()\n",
    "    since = int(start_of_day.timestamp() * 1000)  # Converte para milissegundos\n",
    "    ohlcv = exchange.fetch_ohlcv('BTC/USDT', timeframe='15m', since=since)  # Pega candles de 1 minuto desde o início do dia\n",
    "    df = pd.DataFrame(ohlcv, columns=['timestamp', 'open', 'high', 'low', 'close', 'volume'])\n",
    "    df['timestamp'] = pd.to_datetime(df['timestamp'], unit='ms')  # Convertendo o timestamp\n",
    "    return df\n",
    "\n",
    "# Função para obter novos candles a partir do último timestamp\n",
    "def get_new_candles(last_timestamp):\n",
    "    ohlcv = exchange.fetch_ohlcv('BTC/USDT', timeframe='15m', since=last_timestamp)  # Pega novos candles a partir do último timestamp\n",
    "    df = pd.DataFrame(ohlcv, columns=['timestamp', 'open', 'high', 'low', 'close', 'volume'])\n",
    "    df['timestamp'] = pd.to_datetime(df['timestamp'], unit='ms')  # Convertendo o timestamp\n",
    "    return df\n",
    "\n",
    "# Função para plotar o gráfico de candlesticks\n",
    "def plot_btcusdt_candlestick(df):\n",
    "    fig = go.Figure(data=[go.Candlestick(x=df['timestamp'],\n",
    "                                         open=df['open'],\n",
    "                                         high=df['high'],\n",
    "                                         low=df['low'],\n",
    "                                         close=df['close'],\n",
    "                                         name='BTC/USDT')])\n",
    "    fig.update_layout(title='BTC/USDT Candlestick Chart', xaxis_title='Time', yaxis_title='Price (USDT)')\n",
    "    fig.show()\n",
    "\n",
    "# Baixando o histórico do dia\n",
    "df = get_daily_candles()\n",
    "\n",
    "# Obtendo o último timestamp do histórico baixado\n",
    "last_timestamp = int(df['timestamp'].max().timestamp() * 1000)  # Converte para milissegundos\n",
    "\n",
    "# Loop para atualizar o gráfico com novos candles em tempo real\n",
    "while True:\n",
    "    # Obtendo novos candles desde o último timestamp\n",
    "    new_candles = get_new_candles(last_timestamp)\n",
    "    \n",
    "    if not new_candles.empty:\n",
    "        # Atualizando o DataFrame principal\n",
    "        df = pd.concat([df, new_candles]).drop_duplicates(subset='timestamp', keep='last').reset_index(drop=True)\n",
    "        \n",
    "        # Atualizando o último timestamp com o mais recente do novo lote\n",
    "        last_timestamp = int(df['timestamp'].max().timestamp() * 1000)\n",
    "    \n",
    "    # Mantendo os dados do dia e mostrando os últimos 50 candles no gráfico\n",
    "    df_to_plot = df.tail(100)  # Plotando os últimos 50 candles\n",
    "    \n",
    "    # Atualizando o gráfico\n",
    "    clear_output(wait=True)\n",
    "    plot_btcusdt_candlestick(df_to_plot)\n",
    "    \n",
    "    # Intervalo de 2 segundos\n",
    "    time.sleep(2)\n"
   ]
  },
  {
   "cell_type": "code",
   "execution_count": null,
   "id": "21a07828-19a9-4c98-9e8d-9444eff3bc52",
   "metadata": {},
   "outputs": [],
   "source": []
  }
 ],
 "metadata": {
  "kernelspec": {
   "display_name": "Python 3 (ipykernel)",
   "language": "python",
   "name": "python3"
  },
  "language_info": {
   "codemirror_mode": {
    "name": "ipython",
    "version": 3
   },
   "file_extension": ".py",
   "mimetype": "text/x-python",
   "name": "python",
   "nbconvert_exporter": "python",
   "pygments_lexer": "ipython3",
   "version": "3.11.7"
  }
 },
 "nbformat": 4,
 "nbformat_minor": 5
}
